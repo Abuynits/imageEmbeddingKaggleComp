{
 "metadata": {
  "kernelspec": {
   "language": "python",
   "display_name": "Python 3",
   "name": "python3"
  },
  "language_info": {
   "name": "python",
   "version": "3.7.12",
   "mimetype": "text/x-python",
   "codemirror_mode": {
    "name": "ipython",
    "version": 3
   },
   "pygments_lexer": "ipython3",
   "nbconvert_exporter": "python",
   "file_extension": ".py"
  }
 },
 "nbformat_minor": 4,
 "nbformat": 4,
 "cells": [
  {
   "cell_type": "code",
   "execution_count": null,
   "outputs": [],
   "source": [
    "class RunType:\n",
    "    debug = False # specify whether debug is enabled\n",
    "    show_data = True # specify whether data information is displayed\n",
    "class DataPrep:\n",
    "    step_size = 5\n",
    "    standardize = True\n",
    "    train_test_split = 0.80"
   ],
   "metadata": {
    "collapsed": false,
    "pycharm": {
     "name": "#%%\n"
    }
   }
  },
  {
   "cell_type": "markdown",
   "source": [
    "## Imports"
   ],
   "metadata": {
    "collapsed": false,
    "pycharm": {
     "name": "#%% md\n"
    }
   }
  },
  {
   "cell_type": "code",
   "execution_count": null,
   "outputs": [],
   "source": [
    "import numpy as np \n",
    "import pandas as pd\n",
    "import os\n",
    "import matplotlib.pyplot as plt\n",
    "import seaborn as sns\n",
    "import random\n",
    "#print(sns.__version__)"
   ],
   "metadata": {
    "collapsed": false,
    "pycharm": {
     "name": "#%%\n"
    }
   }
  },
  {
   "cell_type": "markdown",
   "source": [
    "## Data"
   ],
   "metadata": {
    "collapsed": false,
    "pycharm": {
     "name": "#%% md\n"
    }
   }
  },
  {
   "cell_type": "code",
   "execution_count": null,
   "outputs": [],
   "source": [
    "for dirname, _, filenames in os.walk('../input'):\n",
    "    \n",
    "    for filename in filenames:\n",
    "        filename = os.path.join(dirname, filename)\n",
    "        print(filename)"
   ],
   "metadata": {
    "collapsed": false,
    "pycharm": {
     "name": "#%%\n"
    }
   }
  },
  {
   "cell_type": "code",
   "execution_count": null,
   "outputs": [],
   "source": [
    "print(\"reading 1....\")\n",
    "tracking_table = pd.read_csv(\"../input/big-data-derby-2022/nyra_tracking_table.csv\",low_memory=False)\n",
    "if(RunType.show_data):\n",
    "    display(tracking_table[0:2])\n",
    "    display(tracking_table.describe())\n",
    "    \n",
    "print(\"reading 2....\")\n",
    "#names = [\"track_id\",\"race_date\",\"race_number\",\"program_number\",\"trakus_index\"]\n",
    "#start_table = pd.read_csv(\"../input/big-data-derby-2022/nyra_start_table.csv\",low_memory=False,columns = names)\n",
    "start_table = pd.read_csv(\"../input/big-data-derby-2022/nyra_start_table.csv\",low_memory=False)\n",
    "if(RunType.show_data):\n",
    "    display(start_table[0:2])\n",
    "    display(start_table.describe())\n",
    "    \n",
    "print(\"reading 3....\")\n",
    "race_table = pd.read_csv(\"../input/big-data-derby-2022/nyra_race_table.csv\",low_memory=False)\n",
    "if(RunType.show_data):\n",
    "    display(race_table[0:2])\n",
    "    display(race_table.describe())\n",
    "    \n",
    "print(\"reading 4....\")\n",
    "complete = pd.read_csv(\"../input/big-data-derby-2022/nyra_2019_complete.csv\",low_memory=False)\n",
    "if(RunType.show_data):\n",
    "    display(tracking_table[0:2])\n",
    "    display(complete.describe())\n",
    "    \n",
    "print(\"Complete!\")"
   ],
   "metadata": {
    "collapsed": false,
    "pycharm": {
     "name": "#%%\n"
    }
   }
  },
  {
   "cell_type": "markdown",
   "source": [
    "## Data Display"
   ],
   "metadata": {
    "collapsed": false,
    "pycharm": {
     "name": "#%% md\n"
    }
   }
  },
  {
   "cell_type": "code",
   "execution_count": null,
   "outputs": [],
   "source": [
    "if RunType.show_data:\n",
    "    unique_id = tracking_table['track_id'].unique()\n",
    "    interested_month = 7\n",
    "    for track_id in unique_id:\n",
    "        print(f\"==========={track_id}===========\")\n",
    "        tracking0 = tracking_table[tracking_table[\"track_id\"] == track_id]\n",
    "        tracking1 = tracking0[tracking0[\"race_date\"].str.split('-').str[1].astype(int) == interested_month]\n",
    "        if(RunType.debug):\n",
    "            print(\"Entry Count:\",len(tracking1))\n",
    "\n",
    "        plt.style.use(\"dark_background\")\n",
    "        plt.figure(figsize = (16, 8))\n",
    "        sns.scatterplot(data = tracking1, x = \"longitude\", y = \"latitude\", hue = \"race_number\", palette = \"Paired\")\n",
    "\n",
    "        plt.title(f\"track_id = {track_id}, Longitude and Latitude by Race Number\")\n",
    "        plt.legend()\n",
    "        plt.show()"
   ],
   "metadata": {
    "collapsed": false,
    "pycharm": {
     "name": "#%%\n"
    }
   }
  },
  {
   "cell_type": "markdown",
   "source": [
    "## Data Preparation\n",
    "Plan: Split data on:\n",
    "1. Track Name\n",
    "2. Month\n",
    "3. Race Number"
   ],
   "metadata": {
    "collapsed": false,
    "pycharm": {
     "name": "#%% md\n"
    }
   }
  },
  {
   "cell_type": "code",
   "execution_count": null,
   "outputs": [],
   "source": [
    "def get_data(standardize=False):\n",
    "\n",
    "    data = {}\n",
    "    proc_data = {}\n",
    "    unique_id = tracking_table['track_id'].unique()\n",
    "\n",
    "    for track_id in unique_id:\n",
    "        tracking0 = tracking_table[tracking_table[\"track_id\"] == track_id]\n",
    "        unique_months = tracking0['race_date'].str.split('-').str[1].astype(int).unique()\n",
    "        if RunType.debug:\n",
    "            print(len(unique_months))\n",
    "            display(unique_months)\n",
    "        for interested_month in unique_months:\n",
    "\n",
    "            tracking1 = tracking0[tracking0[\"race_date\"].str.split('-').str[1].astype(int) == interested_month]\n",
    "            unique_race_num = tracking1['race_number'].unique()\n",
    "            if RunType.debug:\n",
    "                print(len(unique_race_num))\n",
    "                display(unique_race_num)\n",
    "            print(f\"{track_id}_{interested_month} race count: {len(unique_race_num)}\")\n",
    "            for race_num in unique_race_num:\n",
    "                tracking2 = tracking1[tracking1[\"race_number\"].astype(int) == race_num]\n",
    "                unique_prog_num = tracking2['program_number'].unique()\n",
    "                for prog_num in unique_prog_num:\n",
    "                    label = f\"{track_id}_{interested_month}_{race_num}_{prog_num}\"\n",
    "                    if RunType.debug:\n",
    "                        print(label)\n",
    "                    cols = ['longitude', 'latitude']\n",
    "                    temp_df=tracking2[tracking2[\"program_number\"].astype(str) == prog_num]\n",
    "                    \n",
    "                    \n",
    "                    if standardize:\n",
    "                        long_mean = temp_df[\"longitude\"].mean()\n",
    "                        lat_mean = temp_df[\"latitude\"].mean()\n",
    "                        if RunType.debug:\n",
    "                            print(long_mean,lat_mean)\n",
    "                        temp_df[\"longitude\"] = temp_df[\"longitude\"].astype(float)-long_mean\n",
    "                        temp_df[\"latitude\"] = temp_df[\"latitude\"].astype(float)-lat_mean\n",
    "                    proc_data[label] = [[e for e in row if e==e] for row in temp_df[cols].values.tolist()]\n",
    "                    data[label] = temp_df\n",
    "    return proc_data, data\n",
    "\n",
    "    \n",
    "\n"
   ],
   "metadata": {
    "collapsed": false,
    "pycharm": {
     "name": "#%%\n"
    }
   }
  },
  {
   "cell_type": "code",
   "execution_count": null,
   "outputs": [],
   "source": [
    "# train_data format:\n",
    "# track-race-id_0 : [(l1,l1),(l2,l2),(l3,l3),(l4,l4)]\n",
    "# track-race-id_1 : [(l1,l1),(l2,l2),(l3,l3),(l4,l4)]\n",
    "train_data, disp_data = get_data(DataPrep.standardize)\n",
    "\n"
   ],
   "metadata": {
    "collapsed": false,
    "pycharm": {
     "name": "#%%\n"
    }
   }
  },
  {
   "cell_type": "code",
   "execution_count": null,
   "outputs": [],
   "source": [
    "# count =0\n",
    "# for i,d in train_data.items():\n",
    "#     print(d)\n",
    "#     count +=1\n",
    "#     if count == 5:\n",
    "#         break;"
   ],
   "metadata": {
    "collapsed": false,
    "pycharm": {
     "name": "#%%\n"
    }
   }
  },
  {
   "cell_type": "markdown",
   "source": [],
   "metadata": {
    "collapsed": false,
    "pycharm": {
     "name": "#%% md\n"
    }
   }
  },
  {
   "cell_type": "code",
   "execution_count": null,
   "outputs": [],
   "source": [
    "def prep_training_data(data,step_size):\n",
    "    proc_data = []\n",
    "    # example: have [(l1,l1),(l2,l2),(l3,l3),(l4,l4)]\n",
    "    for i in range(len(data)-step_size):\n",
    "        endp = i+step_size\n",
    "        time_data = [] \n",
    "        for j in range(i,endp):\n",
    "            time_data.append(data[j])\n",
    "        proc_data.append((time_data,data[endp]))\n",
    "    return proc_data\n",
    "\n",
    "def prep_training_data_2(data,step_size):\n",
    "    vals = []\n",
    "    labels = []\n",
    "    # example: have [(l1,l1),(l2,l2),(l3,l3),(l4,l4)]\n",
    "    for i in range(len(data)-step_size):\n",
    "        endp = i+step_size\n",
    "        time_data = []\n",
    "        for j in range(i,endp):\n",
    "            time_data.append(data[j])\n",
    "        vals.append(time_data)\n",
    "        labels.append(data[endp])\n",
    "    return pd.DataFrame.from_dict(vals),pd.DataFrame.from_dict(labels)\n",
    "        \n",
    "    "
   ],
   "metadata": {
    "collapsed": false,
    "pycharm": {
     "name": "#%%\n"
    }
   }
  },
  {
   "cell_type": "code",
   "execution_count": null,
   "outputs": [],
   "source": [
    "# want:\n",
    "# track-race-id_0 : [\n",
    "#([(l1,l1),(l2,l2)],(l3,l3)),\n",
    "#([(l2,l2),(l3,l3)],(l4,l4))\n",
    "#]\n",
    "# track-race-id_1 : [\n",
    "#([(l1,l1),(l2,l2)],(l3,l3)),\n",
    "#([(l2,l2),(l3,l3)],(l4,l4))\n",
    "#]\n",
    "\n",
    "# for id, d in train_data.items():\n",
    "#     if RunType.debug:\n",
    "#         tmp = prep_training_data(d,DataPrep.step_size)\n",
    "#         print(tmp[0])\n",
    "#     train_data[id] = prep_training_data(d,DataPrep.step_size)\n",
    "# all labels: have individual batches of data\n",
    "all_data = []\n",
    "all_labels = []\n",
    "\n",
    "for i,vals in train_data.items():\n",
    "    vals,labels = prep_training_data_2(vals,DataPrep.step_size)\n",
    "    all_data.append(vals)\n",
    "    all_labels.append(labels)"
   ],
   "metadata": {
    "collapsed": false,
    "pycharm": {
     "name": "#%%\n"
    }
   }
  },
  {
   "cell_type": "code",
   "execution_count": null,
   "outputs": [],
   "source": [
    "def split_data(data,percent):\n",
    "    \n",
    "    val_count = (int)(percent*len(data))\n",
    "    vals = random.sample(range(0, len(data)), val_count)\n",
    "    train_set = {}\n",
    "    test_set = {}\n",
    "    count = 0\n",
    "    \n",
    "    for id, d in data.items():\n",
    "        if count in vals:\n",
    "            train_set[id]=d\n",
    "        else:\n",
    "            test_set[id]=d\n",
    "        count+=1\n",
    "    print(\"train_len: \",len(train_set))\n",
    "    print(\"test_len: \",len(test_set))\n",
    "    return train_set,test_set\n",
    "        \n",
    "def split_data_2(data,labels,percent):\n",
    "    \n",
    "    val_count = (int)(percent*len(data))\n",
    "    vals = random.sample(range(0, len(data)), val_count)\n",
    "\n",
    "    train_data = []\n",
    "    train_labels = []\n",
    "    test_data = []\n",
    "    test_labels = []\n",
    "    print(\"datalen: \",len(data))\n",
    "    print(\"labellen: \",len(data))\n",
    "    count = 0\n",
    "    for loc in range(len(data)):\n",
    "        if count in vals:\n",
    "            train_data.append(data[loc])\n",
    "            train_labels.append(labels[loc])\n",
    "        else:\n",
    "            test_data.append(data[loc])\n",
    "            test_labels.append(labels[loc])\n",
    "        count+=1\n",
    "    print(\"train_len: \",len(train_data))\n",
    "    print(\"test_len: \",len(test_data))\n",
    "    return train_data,train_labels,test_data,test_labels"
   ],
   "metadata": {
    "collapsed": false,
    "pycharm": {
     "name": "#%%\n"
    }
   }
  },
  {
   "cell_type": "code",
   "execution_count": null,
   "outputs": [],
   "source": [
    "\n",
    "# now have data prepared in the desired steps with a step size \n",
    "#train_set, test_set = split_data(train_data,DataPrep.train_test_split)\n",
    "x_train,y_train,x_test,y_test = split_data_2(all_data,all_labels,DataPrep.train_test_split)\n",
    "\n",
    "# count =0\n",
    "# for d in train_data:\n",
    "#     print(d)\n",
    "#     count +=1\n",
    "#     if count == 5:\n",
    "#         break;\n",
    "\n"
   ],
   "metadata": {
    "collapsed": false,
    "pycharm": {
     "name": "#%%\n"
    }
   }
  },
  {
   "cell_type": "code",
   "execution_count": null,
   "outputs": [],
   "source": [
    "import torch #pytorch\n",
    "import torch.nn as nn\n",
    "from torch.autograd import Variable \n",
    "\n",
    "X_train_tensors = Variable(torch.Tensor(x_train))\n",
    "X_test_tensors = Variable(torch.Tensor(x_test))\n",
    "\n",
    "y_train_tensors = Variable(torch.Tensor(y_train))\n",
    "y_test_tensors = Variable(torch.Tensor(y_test)) "
   ],
   "metadata": {
    "collapsed": false,
    "pycharm": {
     "name": "#%%\n"
    }
   }
  }
 ]
}